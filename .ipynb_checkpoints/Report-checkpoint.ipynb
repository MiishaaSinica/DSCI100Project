{
 "cells": [
  {
   "cell_type": "markdown",
   "id": "948494b6-48f5-42ef-930d-c5cdbed4e57c",
   "metadata": {},
   "source": [
    "# Predicting Heart Disease in Patients\n",
    "\n",
    "Names: Michael Zheng, Zain Imran, Ella Mo, Yuhao Fu"
   ]
  },
  {
   "cell_type": "markdown",
   "id": "d99e2b8c-9018-4d4f-be16-5ba2eeb5bcc7",
   "metadata": {
    "tags": []
   },
   "source": [
    "### Introduction"
   ]
  },
  {
   "cell_type": "markdown",
   "id": "a73d66ba-4523-4321-8505-1335d6f3bd18",
   "metadata": {},
   "source": [
    "A significant portion of deaths each year can be attributed to heart disease. As such, it is critical and essential to determine the common manifestations of heart disease so that we can better understand the conditions which heart disease can develop from and provide timely treatment. In this project, our group will use the data provided by Janosi et al. to find the relationship between various potentially related factors and the occurrence of heart disease. In this way, we may predict the diagnosis of heart disease more precisely and efficiently according to these factors.\n",
    "\n",
    "The variables in in the original table are:\n",
    "- Age\n",
    "- Sex\n",
    "- Chest pain (cp)\n",
    "- Resting blood pressure in mmHg (trestbps)\n",
    "- Serum cholesterol in mg/dl (chol)\n",
    "- Fasting blood sugar in mg/dl (fbs)\n",
    "- Resting electrocardiography (restecg)\n",
    "- Maximum heart rate achieved (thalach)\n",
    "- Exercise induced angina (exang)\n",
    "- ST depression induced by exercise relative to rest (oldpeak)\n",
    "- Slope of peak exercise ST segment (slope)\n",
    "- Number of major vessels(0-3) coloured by fluoroscopy (ca)\n",
    "- Blood disorder (thal)\n",
    "- Diagnosis of heart disease (num)\n",
    "\n",
    "\n",
    "\n",
    "\n",
    "Janosi, A., Steinbrunn, W., Pfisterer, M., Detrano, R. (1988). *Heart Disease*. UCI Machine Learning Repository. https://doi.org/10.24432/C52P4X."
   ]
  }
 ],
 "metadata": {
  "kernelspec": {
   "display_name": "R",
   "language": "R",
   "name": "ir"
  },
  "language_info": {
   "codemirror_mode": "r",
   "file_extension": ".r",
   "mimetype": "text/x-r-source",
   "name": "R",
   "pygments_lexer": "r",
   "version": "4.2.2"
  },
  "widgets": {
   "application/vnd.jupyter.widget-state+json": {
    "state": {},
    "version_major": 2,
    "version_minor": 0
   }
  }
 },
 "nbformat": 4,
 "nbformat_minor": 5
}
