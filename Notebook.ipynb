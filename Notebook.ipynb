{
 "cells": [
  {
   "cell_type": "markdown",
   "id": "17e93a9c-81f1-47a5-be15-8287c3a363c0",
   "metadata": {},
   "source": [
    "# Title\n",
    "\n",
    "Michael Zheng, Zain Imran, Ella Mo, Yuhao Fu"
   ]
  },
  {
   "cell_type": "markdown",
   "id": "79677318-7151-49be-ad47-f4949d18c948",
   "metadata": {
    "tags": []
   },
   "source": [
    "### Introduction"
   ]
  },
  {
   "cell_type": "markdown",
   "id": "1ae47199-2647-4257-922e-e78b26c9733f",
   "metadata": {},
   "source": [
    "[Introduction here]\n",
    "\n",
    "Janosi,Andras, Steinbrunn,William, Pfisterer,Matthias, and Detrano,Robert. (1988). Heart Disease. UCI Machine Learning Repository. https://doi.org/10.24432/C52P4X."
   ]
  },
  {
   "cell_type": "markdown",
   "id": "7d49f766-b2e1-4b67-abcc-487cfd364ccf",
   "metadata": {},
   "source": [
    "### Preliminary Data Analysis"
   ]
  },
  {
   "cell_type": "markdown",
   "id": "14ad64fb-aef0-4125-b2de-e2a225b860e7",
   "metadata": {},
   "source": [
    "[Preliminary Data Analysis goes here]"
   ]
  },
  {
   "cell_type": "markdown",
   "id": "a333b2a2-bc8b-4ad1-bca6-0c846284b14d",
   "metadata": {},
   "source": [
    "### Methods"
   ]
  },
  {
   "cell_type": "markdown",
   "id": "e5c93129-11d2-4348-b656-bf117826da64",
   "metadata": {},
   "source": [
    "[Methods go here]"
   ]
  },
  {
   "cell_type": "markdown",
   "id": "d8cf0e3e-3abc-49c7-8c96-62c4dfa403e9",
   "metadata": {},
   "source": [
    "### Expected Outcome"
   ]
  },
  {
   "cell_type": "markdown",
   "id": "52dc24f0-99f6-4cda-b2eb-59a97b41a348",
   "metadata": {},
   "source": [
    "[Expected outcome go here]"
   ]
  }
 ],
 "metadata": {
  "kernelspec": {
   "display_name": "R",
   "language": "R",
   "name": "ir"
  },
  "language_info": {
   "codemirror_mode": "r",
   "file_extension": ".r",
   "mimetype": "text/x-r-source",
   "name": "R",
   "pygments_lexer": "r",
   "version": "4.2.2"
  },
  "widgets": {
   "application/vnd.jupyter.widget-state+json": {
    "state": {},
    "version_major": 2,
    "version_minor": 0
   }
  }
 },
 "nbformat": 4,
 "nbformat_minor": 5
}
